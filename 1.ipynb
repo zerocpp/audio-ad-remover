{
 "cells": [
  {
   "cell_type": "code",
   "execution_count": 7,
   "metadata": {},
   "outputs": [
    {
     "ename": "RequestError",
     "evalue": "missing PocketSphinx module: ensure that PocketSphinx is set up correctly.",
     "output_type": "error",
     "traceback": [
      "\u001b[1;31m---------------------------------------------------------------------------\u001b[0m",
      "\u001b[1;31mModuleNotFoundError\u001b[0m                       Traceback (most recent call last)",
      "File \u001b[1;32mc:\\Users\\songz\\.conda\\envs\\demo\\Lib\\site-packages\\speech_recognition\\__init__.py:600\u001b[0m, in \u001b[0;36mRecognizer.recognize_sphinx\u001b[1;34m(self, audio_data, language, keyword_entries, grammar, show_all)\u001b[0m\n\u001b[0;32m    599\u001b[0m \u001b[38;5;28;01mtry\u001b[39;00m:\n\u001b[1;32m--> 600\u001b[0m     \u001b[38;5;28;01mfrom\u001b[39;00m \u001b[38;5;21;01mpocketsphinx\u001b[39;00m \u001b[38;5;28;01mimport\u001b[39;00m FsgModel, Jsgf, pocketsphinx\n\u001b[0;32m    602\u001b[0m \u001b[38;5;28;01mexcept\u001b[39;00m \u001b[38;5;167;01mImportError\u001b[39;00m:\n",
      "\u001b[1;31mModuleNotFoundError\u001b[0m: No module named 'pocketsphinx'",
      "\nDuring handling of the above exception, another exception occurred:\n",
      "\u001b[1;31mRequestError\u001b[0m                              Traceback (most recent call last)",
      "Cell \u001b[1;32mIn[7], line 17\u001b[0m\n\u001b[0;32m     14\u001b[0m     audio_data \u001b[38;5;241m=\u001b[39m r\u001b[38;5;241m.\u001b[39mrecord(source)\n\u001b[0;32m     16\u001b[0m \u001b[38;5;66;03m# 使用Google Web Speech API进行识别\u001b[39;00m\n\u001b[1;32m---> 17\u001b[0m text \u001b[38;5;241m=\u001b[39m \u001b[43mr\u001b[49m\u001b[38;5;241;43m.\u001b[39;49m\u001b[43mrecognize_sphinx\u001b[49m\u001b[43m(\u001b[49m\u001b[43maudio_data\u001b[49m\u001b[43m,\u001b[49m\u001b[43m \u001b[49m\u001b[43mlanguage\u001b[49m\u001b[38;5;241;43m=\u001b[39;49m\u001b[38;5;124;43m\"\u001b[39;49m\u001b[38;5;124;43mzh-CN\u001b[39;49m\u001b[38;5;124;43m\"\u001b[39;49m\u001b[43m)\u001b[49m\n\u001b[0;32m     19\u001b[0m \u001b[38;5;28mprint\u001b[39m(text)\n",
      "File \u001b[1;32mc:\\Users\\songz\\.conda\\envs\\demo\\Lib\\site-packages\\speech_recognition\\__init__.py:603\u001b[0m, in \u001b[0;36mRecognizer.recognize_sphinx\u001b[1;34m(self, audio_data, language, keyword_entries, grammar, show_all)\u001b[0m\n\u001b[0;32m    600\u001b[0m     \u001b[38;5;28;01mfrom\u001b[39;00m \u001b[38;5;21;01mpocketsphinx\u001b[39;00m \u001b[38;5;28;01mimport\u001b[39;00m FsgModel, Jsgf, pocketsphinx\n\u001b[0;32m    602\u001b[0m \u001b[38;5;28;01mexcept\u001b[39;00m \u001b[38;5;167;01mImportError\u001b[39;00m:\n\u001b[1;32m--> 603\u001b[0m     \u001b[38;5;28;01mraise\u001b[39;00m RequestError(\u001b[38;5;124m\"\u001b[39m\u001b[38;5;124mmissing PocketSphinx module: ensure that PocketSphinx is set up correctly.\u001b[39m\u001b[38;5;124m\"\u001b[39m)\n\u001b[0;32m    604\u001b[0m \u001b[38;5;28;01mexcept\u001b[39;00m \u001b[38;5;167;01mValueError\u001b[39;00m:\n\u001b[0;32m    605\u001b[0m     \u001b[38;5;28;01mraise\u001b[39;00m RequestError(\u001b[38;5;124m\"\u001b[39m\u001b[38;5;124mbad PocketSphinx installation; try reinstalling PocketSphinx version 0.0.9 or better.\u001b[39m\u001b[38;5;124m\"\u001b[39m)\n",
      "\u001b[1;31mRequestError\u001b[0m: missing PocketSphinx module: ensure that PocketSphinx is set up correctly."
     ]
    }
   ],
   "source": [
    "# 需要安装speech_recognition库\n",
    "# pip install SpeechRecognition\n",
    "import speech_recognition as sr\n",
    "\n",
    "# input_path = './audio/001.wav'\n",
    "input_path = './audio/output.wav'\n",
    "# input_path = './audio/第01回 老教头失手埋祸 破落户帮闲遭逐.mp3'\n",
    "\n",
    "# 初始化识别器\n",
    "r = sr.Recognizer()\n",
    "\n",
    "# 从音频文件中加载音频数据\n",
    "with sr.AudioFile(input_path) as source:\n",
    "    audio_data = r.record(source)\n",
    "\n",
    "# 使用Google Web Speech API进行识别\n",
    "text = r.recognize_sphinx(audio_data, language=\"zh-CN\")\n",
    "\n",
    "print(text)"
   ]
  }
 ],
 "metadata": {
  "kernelspec": {
   "display_name": "demo",
   "language": "python",
   "name": "python3"
  },
  "language_info": {
   "codemirror_mode": {
    "name": "ipython",
    "version": 3
   },
   "file_extension": ".py",
   "mimetype": "text/x-python",
   "name": "python",
   "nbconvert_exporter": "python",
   "pygments_lexer": "ipython3",
   "version": "3.11.5"
  }
 },
 "nbformat": 4,
 "nbformat_minor": 2
}
